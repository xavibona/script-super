{
 "cells": [
  {
   "cell_type": "code",
   "execution_count": null,
   "id": "f11263e3",
   "metadata": {},
   "outputs": [
    {
     "name": "stdout",
     "output_type": "stream",
     "text": [
      "2000\n"
     ]
    }
   ],
   "source": [
    "class Producto_s6:\n",
    "    super = 'Super Seis'\n",
    "    def __init__(self, nombre, precio):\n",
    "        nombre.self = nombre\n",
    "        precio.self = precio\n",
    "        \n",
    "class Producto_stock:\n",
    "    super = 'Super stock'\n",
    "    def __init__(self, nombre, precio):\n",
    "        nombre.self = nombre\n",
    "        precio.self = precio\n",
    "\n",
    "\n",
    "precio_final = 0\n",
    "lista_objeto = []\n",
    "\n",
    "a = Producto_s6('arroz',2000)\n",
    "b = Producto_stock('arroz',3000)\n",
    "#c = Producto_s6('jamon', 1000)\n",
    "\n",
    "#bucle\n",
    "\n",
    "producto_a_comparar = input('ingrese producto a comparar')\n",
    "\n",
    "\n",
    "\n",
    "\n",
    "\n",
    "# lista_precio_arroz = [arroz1,arroz2,arroz3]\n",
    "\n",
    "# a = min(lista_precio_arroz)\n",
    "# print(a)\n",
    "\n",
    "\n"
   ]
  },
  {
   "cell_type": "code",
   "execution_count": null,
   "id": "51c520e3",
   "metadata": {},
   "outputs": [
    {
     "ename": "IndentationError",
     "evalue": "expected an indented block after 'if' statement on line 16 (235692062.py, line 17)",
     "output_type": "error",
     "traceback": [
      "  \u001b[36mCell\u001b[39m\u001b[36m \u001b[39m\u001b[32mIn[6]\u001b[39m\u001b[32m, line 17\u001b[39m\n\u001b[31m    \u001b[39m\u001b[31mmas_barato = min(productos, key=lambda x: x[\"precio\"])\u001b[39m\n    ^\n\u001b[31mIndentationError\u001b[39m\u001b[31m:\u001b[39m expected an indented block after 'if' statement on line 16\n"
     ]
    }
   ],
   "source": [
    "lista_general = [\n",
    "    {\"supermercado\": \"Super A\", \"producto\": \"Yerba\", \"precio\": 22000},\n",
    "    {\"supermercado\": \"Super B\", \"producto\": \"Yerba\", \"precio\": 21500},\n",
    "    {\"supermercado\": \"Super C\", \"producto\": \"Yerba\", \"precio\": 22500},\n",
    "    {\"supermercado\": \"Super A\", \"producto\": \"Azúcar\", \"precio\": 9000},\n",
    "    {\"supermercado\": \"Super B\", \"producto\": \"Azúcar\", \"precio\": 8800},\n",
    "    {\"supermercado\": \"Super C\", \"producto\": \"Azúcar\", \"precio\": 8700}\n",
    "]\n",
    "\n",
    "\n",
    "lista_producto = []\n",
    "\n",
    "producto_a_comparar = input('ingrese el nombre del producto') #ejemplo Yerba\n",
    "\n",
    "\n",
    "\n",
    "\n",
    "\n",
    "# for producto in lista_general:\n",
    "#     if producto_a_comparar == producto['producto']:\n",
    "    \n"
   ]
  },
  {
   "cell_type": "code",
   "execution_count": null,
   "id": "62471a78",
   "metadata": {},
   "outputs": [
    {
     "name": "stdout",
     "output_type": "stream",
     "text": [
      "El más barato está en Super C con precio 8700\n"
     ]
    }
   ],
   "source": [
    "lista_general = [\n",
    "    {\"supermercado\": \"Super A\", \"producto\": \"Yerba\", \"precio\": 22000},\n",
    "    {\"supermercado\": \"Super B\", \"producto\": \"Yerba\", \"precio\": 21500},\n",
    "    {\"supermercado\": \"Super C\", \"producto\": \"Yerba\", \"precio\": 22500},\n",
    "    {\"supermercado\": \"Super A\", \"producto\": \"Azúcar\", \"precio\": 9000},\n",
    "    {\"supermercado\": \"Super B\", \"producto\": \"Azúcar\", \"precio\": 8800},\n",
    "    {\"supermercado\": \"Super C\", \"producto\": \"Azúcar\", \"precio\": 8700}\n",
    "]\n",
    "\n",
    "producto_a_comparar = input(\"Ingrese el nombre del producto: \") #.strip() borra los caracteres seleccionados\n",
    "\n",
    "# filtrar\n",
    "lista_producto = [\n",
    "    p for p in lista_general\n",
    "    if p[\"producto\"].lower() == producto_a_comparar.lower()\n",
    "]\n",
    "\n",
    "if not lista_producto:\n",
    "    print(\"Producto no encontrado.\")\n",
    "else:\n",
    "    # obtener precio minimo\n",
    "    precio_minimo = min(lista_producto, key=lambda x: x[\"precio\"])[\"precio\"]\n",
    "\n",
    "    # buscamos todos los que tengan ese precio\n",
    "    mas_baratos = [\n",
    "        p for p in lista_producto if p[\"precio\"] == precio_minimo\n",
    "    ]\n",
    "\n",
    "    # print del mas barato\n",
    "    if len(mas_baratos) == 1:\n",
    "        print(f\"El más barato está en {mas_baratos[0]['supermercado']} con precio {precio_minimo}\")\n",
    "    else:\n",
    "        print(f\"Empate en precio ({precio_minimo}) entre:\")\n",
    "        for p in mas_baratos:\n",
    "            print(f\"- {p['supermercado']}\")\n"
   ]
  },
  {
   "cell_type": "markdown",
   "id": "425fa640",
   "metadata": {},
   "source": [
    "### descuentos  \n",
    "crear una funcion que reciba un % de descuento de un producto y lo aplique\n",
    "lo mismo con el reintegro (este se aplica despues)  \n",
    "imprimir el valor original\n",
    "el valor con el descuento\n",
    "y el valor luego del reintegro"
   ]
  },
  {
   "cell_type": "code",
   "execution_count": null,
   "id": "99183ff5",
   "metadata": {},
   "outputs": [
    {
     "name": "stdout",
     "output_type": "stream",
     "text": [
      "9000.0\n",
      "500.0\n",
      "9000.0\n"
     ]
    }
   ],
   "source": [
    "\n",
    "    \n",
    "cosa = int(input('ingrese el precio de la cosa'))\n",
    "dcto = float(input('ingrese el descuento'))/100*cosa\n",
    "reintegro = float(input('ingrese el reintegro'))/100*cosa\n",
    "reintegro_total=0\n",
    "total=0\n",
    "\n",
    "\n",
    "\n",
    "\n",
    "if bool(dcto):\n",
    "   cosa -= dcto\n",
    "   print(cosa)\n",
    "if bool(reintegro):\n",
    "    reintegro_total += reintegro\n",
    "    print(reintegro_total)\n",
    "total = total + cosa \n",
    "print(total)\n",
    "\n",
    "\n",
    "\n"
   ]
  },
  {
   "cell_type": "code",
   "execution_count": null,
   "id": "f91f19eb",
   "metadata": {},
   "outputs": [],
   "source": [
    "reintegro_total=0\n",
    "total=0\n",
    "\n",
    "cant_items = int(input('ingrese la cantidad de items a comprar'))\n",
    "lista = []\n",
    "for i in range(cant_items): #se repite segun la cantidad de items\n",
    "    cosa = int(input('ingrese el precio de la cosa'))\n",
    "    dcto = float(input('ingrese el descuento'))/100*cosa #calcula el descuento\n",
    "    reintegro = float(input('ingrese el reintegro'))/100*cosa #calcula el reintegro\n",
    "    \n",
    "    if dcto > 0: \n",
    "        cosa -= dcto\n",
    "        print(cosa)\n",
    "    if reintegro > 0:\n",
    "        reintegro_total += reintegro\n",
    "        print(reintegro_total)\n",
    "    lista.append(cosa)\n",
    "    print(lista[i])\n",
    "    total = total + cosa \n",
    "    i+=i\n",
    "\n",
    "\n",
    "\n",
    "\n",
    "\n",
    "\n",
    "print(total)"
   ]
  },
  {
   "cell_type": "markdown",
   "id": "c23783ec",
   "metadata": {},
   "source": [
    "### Funcion de dcto"
   ]
  },
  {
   "cell_type": "code",
   "execution_count": 5,
   "id": "40408daf",
   "metadata": {},
   "outputs": [
    {
     "data": {
      "text/plain": [
       "500.0"
      ]
     },
     "execution_count": 5,
     "metadata": {},
     "output_type": "execute_result"
    }
   ],
   "source": [
    "def calcular_dcto(precio, porcentaje_promo):\n",
    "    dcto = porcentaje_promo / 100 * precio\n",
    "    return dcto\n",
    "\n",
    "calcular_dcto(5000, 10)\n"
   ]
  },
  {
   "cell_type": "markdown",
   "id": "bad00160",
   "metadata": {},
   "source": [
    "crear una lista de objetos que hay en un supermercado y luego pedirle al usuario que seleccione los que va a llevar y se guarden en una lista nueva, mostrar la lista."
   ]
  },
  {
   "cell_type": "code",
   "execution_count": 7,
   "id": "1938b14d",
   "metadata": {},
   "outputs": [
    {
     "name": "stdout",
     "output_type": "stream",
     "text": [
      "Producto no disponible\n",
      "['banana']\n",
      "['banana', 'tomate']\n",
      "Usted va a llevar lo siguiente: ['banana', 'tomate']\n"
     ]
    }
   ],
   "source": [
    "lista_super = ['banana','tomate','yerba','azucar','arroz']\n",
    "lista_llevar = []\n",
    "prod = True\n",
    "while True:\n",
    "    prod = input('Ingrese el producto q llevara, ENTER para parar')\n",
    "    if prod in lista_super: #si producto ingresado esta en la lista se agrega\n",
    "        lista_llevar.append(prod)\n",
    "        print(lista_llevar)\n",
    "    elif prod == '': #para detener\n",
    "        break\n",
    "    else: #producto no se encuentra\n",
    "        print('Producto no disponible')\n",
    "print(f'Usted va a llevar lo siguiente: {lista_llevar}')\n",
    "\n",
    "\n"
   ]
  },
  {
   "cell_type": "code",
   "execution_count": 4,
   "id": "51fd66f3",
   "metadata": {},
   "outputs": [
    {
     "name": "stdout",
     "output_type": "stream",
     "text": [
      "Tomate - Precio final: $500.00\n",
      "Yerba - Precio final: $960.00\n",
      "Azucar - Precio final: $595.00\n",
      "\n",
      "Resumen de compra:\n",
      "- Tomate (Super B) - $500.0\n",
      "- Yerba (Super A) - $960.0\n",
      "- Azucar (Super C) - $595.0\n",
      "pago total es 2055.0\n"
     ]
    }
   ],
   "source": [
    "# Estructura de productos con datos completos\n",
    "lista_super = {\n",
    "    \"banana\": {\n",
    "        \"precio\": 300,\n",
    "        \"supermercado\": \"Super A\",\n",
    "        \"promocion\": {\"descuento\": 10, \"reintegro\": 5}  # % de descuento y reintegro\n",
    "    },\n",
    "    \"tomate\": {\n",
    "        \"precio\": 500,\n",
    "        \"supermercado\": \"Super B\",\n",
    "        \"promocion\": {\"descuento\": 0, \"reintegro\": 0}\n",
    "    },\n",
    "    \"yerba\": {\n",
    "        \"precio\": 1200,\n",
    "        \"supermercado\": \"Super A\",\n",
    "        \"promocion\": {\"descuento\": 20, \"reintegro\": 0}\n",
    "    },\n",
    "    \"azucar\": {\n",
    "        \"precio\": 700,\n",
    "        \"supermercado\": \"Super C\",\n",
    "        \"promocion\": {\"descuento\": 5, \"reintegro\": 10}\n",
    "    },\n",
    "    \"arroz\": {\n",
    "        \"precio\": 800,\n",
    "        \"supermercado\": \"Super C\",\n",
    "        \"promocion\": {\"descuento\": 0, \"reintegro\": 15}\n",
    "    }\n",
    "}\n",
    "\n",
    "# Función para calcular precio final con descuento y reintegro\n",
    "def calcular_precio_final(precio, descuento=0, reintegro=0):\n",
    "    precio_con_descuento = precio - (precio * descuento / 100)\n",
    "    precio_final = precio_con_descuento - (precio * reintegro / 100)\n",
    "    return precio_final\n",
    "\n",
    "# Lista para productos que el usuario lleva\n",
    "lista_llevar = []\n",
    "pago_total = 0\n",
    "# Entrada de productos\n",
    "while True:\n",
    "    prod = input('Ingrese el producto que llevará (ENTER para parar): ').lower()\n",
    "    if prod == \"\":\n",
    "        break\n",
    "    if prod in lista_super:\n",
    "        lista_llevar.append(prod)\n",
    "        datos = lista_super[prod]\n",
    "        precio_final = calcular_precio_final(\n",
    "            datos[\"precio\"],\n",
    "            datos[\"promocion\"][\"descuento\"],\n",
    "            datos[\"promocion\"][\"reintegro\"]\n",
    "        )\n",
    "        pago_total += precio_final\n",
    "        print(f\"{prod.capitalize()} - Precio final: ${precio_final:.2f}\")\n",
    "    else:\n",
    "        print(\"Producto no encontrado en la lista.\")\n",
    "\n",
    "# Resumen final\n",
    "print(\"\\nResumen de compra:\")\n",
    "for prod in lista_llevar:\n",
    "    datos = lista_super[prod]\n",
    "    precio_final = calcular_precio_final(\n",
    "        datos[\"precio\"],\n",
    "        datos[\"promocion\"][\"descuento\"],\n",
    "        datos[\"promocion\"][\"reintegro\"]\n",
    "    )\n",
    "    print(f\"- {prod.capitalize()} ({datos['supermercado']}) - ${precio_final}\")\n",
    "\n",
    "print(f\"pago total es {pago_total}\")\n"
   ]
  },
  {
   "cell_type": "code",
   "execution_count": 6,
   "id": "5f20fd0d",
   "metadata": {},
   "outputs": [
    {
     "name": "stdout",
     "output_type": "stream",
     "text": [
      "Yerba x4 - Precio final: $3840.00\n",
      "Tomate x5 - Precio final: $2500.00\n",
      "\n",
      "Resumen de compra:\n",
      "- Yerba x4 (Super A) - $3840.00\n",
      "- Tomate x5 (Super B) - $2500.00\n",
      "Pago total: $6340.00\n"
     ]
    }
   ],
   "source": [
    "# Estructura de productos con datos completos\n",
    "lista_super = {\n",
    "    \"banana\": {\n",
    "        \"precio\": 300,\n",
    "        \"supermercado\": \"Super A\",\n",
    "        \"promocion\": {\"descuento\": 10, \"reintegro\": 5}\n",
    "    },\n",
    "    \"tomate\": {\n",
    "        \"precio\": 500,\n",
    "        \"supermercado\": \"Super B\",\n",
    "        \"promocion\": {\"descuento\": 0, \"reintegro\": 0}\n",
    "    },\n",
    "    \"yerba\": {\n",
    "        \"precio\": 1200,\n",
    "        \"supermercado\": \"Super A\",\n",
    "        \"promocion\": {\"descuento\": 20, \"reintegro\": 0}\n",
    "    },\n",
    "    \"azucar\": {\n",
    "        \"precio\": 700,\n",
    "        \"supermercado\": \"Super C\",\n",
    "        \"promocion\": {\"descuento\": 5, \"reintegro\": 10}\n",
    "    },\n",
    "    \"arroz\": {\n",
    "        \"precio\": 800,\n",
    "        \"supermercado\": \"Super C\",\n",
    "        \"promocion\": {\"descuento\": 0, \"reintegro\": 15}\n",
    "    }\n",
    "}\n",
    "\n",
    "# Función para calcular precio final con descuento y reintegro\n",
    "def calcular_precio_final(precio, descuento=0, reintegro=0):\n",
    "    precio_con_descuento = precio - (precio * descuento / 100)\n",
    "    precio_final = precio_con_descuento - (precio * reintegro / 100)\n",
    "    return precio_final\n",
    "\n",
    "# Lista para productos que el usuario lleva\n",
    "lista_llevar = []\n",
    "pago_total = 0\n",
    "\n",
    "# Entrada de productos\n",
    "while True:\n",
    "    entrada = input('Ingrese el producto y cantidad (ej: yerba 2) o ENTER para parar: ').lower()\n",
    "    if entrada == \"\":\n",
    "        break\n",
    "\n",
    "    partes = entrada.split()\n",
    "    nombre = partes[0]\n",
    "    cantidad = int(partes[1]) if len(partes) > 1 else 1\n",
    "\n",
    "    if nombre in lista_super:\n",
    "        lista_llevar.append((nombre, cantidad))\n",
    "        datos = lista_super[nombre]\n",
    "        precio_unit = calcular_precio_final(\n",
    "            datos[\"precio\"],\n",
    "            datos[\"promocion\"][\"descuento\"],\n",
    "            datos[\"promocion\"][\"reintegro\"]\n",
    "        )\n",
    "        total_producto = precio_unit * cantidad\n",
    "        pago_total += total_producto\n",
    "        print(f\"{nombre.capitalize()} x{cantidad} - Precio final: ${total_producto:.2f}\")\n",
    "    else:\n",
    "        print(\"Producto no encontrado en la lista.\")\n",
    "\n",
    "# Resumen final\n",
    "print(\"\\nResumen de compra:\")\n",
    "for nombre, cantidad in lista_llevar:\n",
    "    datos = lista_super[nombre]\n",
    "    precio_unit = calcular_precio_final(\n",
    "        datos[\"precio\"],\n",
    "        datos[\"promocion\"][\"descuento\"],\n",
    "        datos[\"promocion\"][\"reintegro\"]\n",
    "    )\n",
    "    print(f\"- {nombre.capitalize()} x{cantidad} ({datos['supermercado']}) - ${precio_unit * cantidad:.2f}\")\n",
    "\n",
    "print(f\"Pago total: ${pago_total:.2f}\")\n"
   ]
  }
 ],
 "metadata": {
  "kernelspec": {
   "display_name": "Python 3",
   "language": "python",
   "name": "python3"
  },
  "language_info": {
   "codemirror_mode": {
    "name": "ipython",
    "version": 3
   },
   "file_extension": ".py",
   "mimetype": "text/x-python",
   "name": "python",
   "nbconvert_exporter": "python",
   "pygments_lexer": "ipython3",
   "version": "3.11.9"
  }
 },
 "nbformat": 4,
 "nbformat_minor": 5
}
